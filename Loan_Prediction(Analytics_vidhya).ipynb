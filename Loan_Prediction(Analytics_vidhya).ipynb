{
 "cells": [
  {
   "cell_type": "code",
   "execution_count": 1,
   "metadata": {
    "collapsed": true
   },
   "outputs": [],
   "source": [
    "import numpy as np\n",
    "import pandas as pd\n",
    "import matplotlib.pyplot as plt\n",
    "from sklearn.preprocessing import Imputer\n",
    "from sklearn.neighbors import KNeighborsClassifier\n",
    "from sklearn.pipeline import Pipeline\n",
    "from sklearn.model_selection import train_test_split\n",
    "from sklearn.model_selection import GridSearchCV\n",
    "from sklearn.preprocessing import StandardScaler"
   ]
  },
  {
   "cell_type": "code",
   "execution_count": 2,
   "metadata": {},
   "outputs": [
    {
     "name": "stdout",
     "output_type": "stream",
     "text": [
      "    Loan_ID Gender Married Dependents     Education Self_Employed  \\\n",
      "0  LP001002   Male      No          0      Graduate            No   \n",
      "1  LP001003   Male     Yes          1      Graduate            No   \n",
      "2  LP001005   Male     Yes          0      Graduate           Yes   \n",
      "3  LP001006   Male     Yes          0  Not Graduate            No   \n",
      "4  LP001008   Male      No          0      Graduate            No   \n",
      "\n",
      "   ApplicantIncome  CoapplicantIncome  LoanAmount  Loan_Amount_Term  \\\n",
      "0             5849                0.0         NaN             360.0   \n",
      "1             4583             1508.0       128.0             360.0   \n",
      "2             3000                0.0        66.0             360.0   \n",
      "3             2583             2358.0       120.0             360.0   \n",
      "4             6000                0.0       141.0             360.0   \n",
      "\n",
      "   Credit_History Property_Area Loan_Status  \n",
      "0             1.0         Urban           Y  \n",
      "1             1.0         Rural           N  \n",
      "2             1.0         Urban           Y  \n",
      "3             1.0         Urban           Y  \n",
      "4             1.0         Urban           Y  \n"
     ]
    }
   ],
   "source": [
    "df=pd.read_csv('train_u6lujuX_CVtuZ9i.csv')\n",
    "df_test=pd.read_csv('test_Y3wMUE5_7gLdaTN.csv')\n",
    "print(df.head())\n",
    "#df=df_o.drop('Loan_ID',axis=1)"
   ]
  },
  {
   "cell_type": "code",
   "execution_count": 3,
   "metadata": {},
   "outputs": [
    {
     "name": "stdout",
     "output_type": "stream",
     "text": [
      "<class 'pandas.core.frame.DataFrame'>\n",
      "RangeIndex: 614 entries, 0 to 613\n",
      "Data columns (total 13 columns):\n",
      "Loan_ID              614 non-null object\n",
      "Gender               614 non-null object\n",
      "Married              614 non-null object\n",
      "Dependents           614 non-null object\n",
      "Education            614 non-null object\n",
      "Self_Employed        614 non-null object\n",
      "ApplicantIncome      614 non-null int64\n",
      "CoapplicantIncome    614 non-null float64\n",
      "LoanAmount           614 non-null float64\n",
      "Loan_Amount_Term     614 non-null float64\n",
      "Credit_History       614 non-null object\n",
      "Property_Area        614 non-null object\n",
      "Loan_Status          614 non-null object\n",
      "dtypes: float64(3), int64(1), object(9)\n",
      "memory usage: 62.4+ KB\n",
      "None\n",
      "<class 'pandas.core.frame.DataFrame'>\n",
      "RangeIndex: 367 entries, 0 to 366\n",
      "Data columns (total 12 columns):\n",
      "Loan_ID              367 non-null object\n",
      "Gender               367 non-null object\n",
      "Married              367 non-null object\n",
      "Dependents           367 non-null object\n",
      "Education            367 non-null object\n",
      "Self_Employed        367 non-null object\n",
      "ApplicantIncome      367 non-null int64\n",
      "CoapplicantIncome    367 non-null int64\n",
      "LoanAmount           367 non-null float64\n",
      "Loan_Amount_Term     367 non-null float64\n",
      "Credit_History       367 non-null object\n",
      "Property_Area        367 non-null object\n",
      "dtypes: float64(2), int64(2), object(8)\n",
      "memory usage: 34.5+ KB\n",
      "None\n"
     ]
    }
   ],
   "source": [
    "df.Gender.replace(' ',np.nan,inplace=True)\n",
    "df.Married.replace(' ',np.nan,inplace=True)\n",
    "df.Dependents.replace(' ',np.nan,inplace=True)\n",
    "df.Self_Employed.replace(' ',np.nan,inplace=True)\n",
    "df.Married.replace(' ',np.nan,inplace=True)\n",
    "df.Loan_Amount_Term.replace(' ',np.nan,inplace=True)\n",
    "df.Credit_History.replace(' ',np.nan,inplace=True)\n",
    "df.LoanAmount = df.LoanAmount.fillna(df.LoanAmount.mean())\n",
    "df.Self_Employed = df.Self_Employed.fillna('No')\n",
    "df.Gender = df.Gender.fillna('Male')\n",
    "df.Married = df.Married.fillna('Yes')\n",
    "df.Loan_Status = df.Loan_Status.fillna('1')\n",
    "df.Dependents.replace('3+','3',inplace=True)\n",
    "df.Dependents=df.Dependents.fillna('0')\n",
    "df.Credit_History = df.Credit_History.fillna('1.0')\n",
    "df.Loan_Amount_Term=df.Loan_Amount_Term.fillna(df.Loan_Amount_Term.mean())\n",
    "df_test.Dependents.replace('3+','3',inplace=True)\n",
    "print(df.info())\n",
    "df.isnull().any()\n",
    "df_test.Gender.replace(' ',np.nan,inplace=True)\n",
    "df_test.Gender = df_test.Gender.fillna('Male')\n",
    "df_test.Dependents.replace(' ',np.nan,inplace=True)\n",
    "df_test.Dependents=df_test.Dependents.fillna('0')\n",
    "df_test.Self_Employed.replace(' ',np.nan,inplace=True)\n",
    "df_test.Self_Employed = df_test.Self_Employed.fillna('No')\n",
    "df.Loan_Amount_Term.replace(' ',np.nan,inplace=True)\n",
    "df_test.Loan_Amount_Term=df_test.Loan_Amount_Term.fillna(df_test.Loan_Amount_Term.mean())\n",
    "df_test.LoanAmount.replace(' ',np.nan,inplace=True)\n",
    "df_test.LoanAmount = df_test.LoanAmount.fillna(df_test.LoanAmount.mean())\n",
    "df_test.Credit_History.replace(' ',np.nan,inplace=True)\n",
    "df_test.Credit_History = df_test.Credit_History.fillna('1.0')\n",
    "print(df_test.info())"
   ]
  },
  {
   "cell_type": "code",
   "execution_count": 4,
   "metadata": {},
   "outputs": [
    {
     "name": "stdout",
     "output_type": "stream",
     "text": [
      "      Loan_ID  Gender  Married Dependents  Education  Self_Employed  \\\n",
      "609  LP002978       0        0          0          0              0   \n",
      "610  LP002979       1        1          3          0              0   \n",
      "611  LP002983       1        1          1          0              0   \n",
      "612  LP002984       1        1          2          0              0   \n",
      "613  LP002990       0        0          0          0              1   \n",
      "\n",
      "     ApplicantIncome  CoapplicantIncome  LoanAmount  Loan_Amount_Term  \\\n",
      "609             2900                0.0        71.0             360.0   \n",
      "610             4106                0.0        40.0             180.0   \n",
      "611             8072              240.0       253.0             360.0   \n",
      "612             7583                0.0       187.0             360.0   \n",
      "613             4583                0.0       133.0             360.0   \n",
      "\n",
      "    Credit_History  Property_Area Loan_Status  \n",
      "609              1              0           Y  \n",
      "610              1              0           Y  \n",
      "611              1              2           Y  \n",
      "612              1              2           Y  \n",
      "613              0              1           N  \n",
      "      Loan_ID  Gender  Married Dependents  Education  Self_Employed  \\\n",
      "362  LP002971       1        1          3          1              1   \n",
      "363  LP002975       1        1          0          0              0   \n",
      "364  LP002980       1        0          0          0              0   \n",
      "365  LP002986       1        1          0          0              0   \n",
      "366  LP002989       1        0          0          0              1   \n",
      "\n",
      "     ApplicantIncome  CoapplicantIncome  LoanAmount  Loan_Amount_Term  \\\n",
      "362             4009               1777       113.0             360.0   \n",
      "363             4158                709       115.0             360.0   \n",
      "364             3250               1993       126.0             360.0   \n",
      "365             5000               2393       158.0             360.0   \n",
      "366             9200                  0        98.0             180.0   \n",
      "\n",
      "    Credit_History  Property_Area  Loan_Status  \n",
      "362              1              2            0  \n",
      "363              1              2            0  \n",
      "364            1.0              1            0  \n",
      "365              1              0            0  \n",
      "366              1              0            0  \n"
     ]
    }
   ],
   "source": [
    "from sklearn.preprocessing import LabelEncoder\n",
    "le=LabelEncoder()\n",
    "df['Gender']=le.fit_transform(df['Gender'])\n",
    "df['Married']=le.fit_transform(df['Married'])\n",
    "df['Education']=le.fit_transform(df['Education'])\n",
    "df['Self_Employed']=le.fit_transform(df['Self_Employed'])\n",
    "df['Property_Area']=le.fit_transform(df['Property_Area'])\n",
    "df_test['Gender']=le.fit_transform(df_test['Gender'])\n",
    "df_test['Education']=le.fit_transform(df_test['Education'])\n",
    "df_test['Self_Employed']=le.fit_transform(df_test['Self_Employed'])\n",
    "df_test['Property_Area']=le.fit_transform(df_test['Property_Area'])\n",
    "df_test['Married']=le.fit_transform(df_test['Married'])\n",
    "df_test['Loan_Status']=0\n",
    "print(df.tail())\n",
    "print(df_test.tail())\n",
    "df['Loan_Status']=le.fit_transform(df['Loan_Status'])"
   ]
  },
  {
   "cell_type": "code",
   "execution_count": 5,
   "metadata": {
    "collapsed": true
   },
   "outputs": [],
   "source": [
    "#imp=Imputer(missing_values='NaN',strategy='most_frequent',axis=0)\n",
    "steps=[('scaler',StandardScaler()),('knn',KNeighborsClassifier())]\n",
    "pipeline=Pipeline(steps)\n",
    "param_grid={'knn__n_neighbors':np.arange(1,50)}\n",
    "pipeline_cv=GridSearchCV(pipeline,param_grid,cv=10)\n",
    "y=df['Loan_Status']\n",
    "X=df.drop(['Loan_Status','Loan_ID'],axis=1)\n",
    "y_test=df['Loan_Status']\n",
    "X_test=df_test.drop(['Loan_Status','Loan_ID'],axis=1)"
   ]
  },
  {
   "cell_type": "code",
   "execution_count": 13,
   "metadata": {},
   "outputs": [
    {
     "name": "stdout",
     "output_type": "stream",
     "text": [
      "   Gender  Married Dependents  Education  Self_Employed  ApplicantIncome  \\\n",
      "0       1        0          0          0              0             5849   \n",
      "1       1        1          1          0              0             4583   \n",
      "2       1        1          0          0              1             3000   \n",
      "3       1        1          0          1              0             2583   \n",
      "4       1        0          0          0              0             6000   \n",
      "\n",
      "   CoapplicantIncome  LoanAmount  Loan_Amount_Term Credit_History  \\\n",
      "0                0.0  146.412162             360.0              1   \n",
      "1             1508.0  128.000000             360.0              1   \n",
      "2                0.0   66.000000             360.0              1   \n",
      "3             2358.0  120.000000             360.0              1   \n",
      "4                0.0  141.000000             360.0              1   \n",
      "\n",
      "   Property_Area  \n",
      "0              2  \n",
      "1              0  \n",
      "2              2  \n",
      "3              2  \n",
      "4              2  \n"
     ]
    }
   ],
   "source": [
    "print(X.head())"
   ]
  },
  {
   "cell_type": "code",
   "execution_count": 124,
   "metadata": {
    "collapsed": true
   },
   "outputs": [],
   "source": [
    "#X_train,X_test,y_train,y_test=train_test_split(X,y,test_size=0.2,random_state=21)"
   ]
  },
  {
   "cell_type": "code",
   "execution_count": 6,
   "metadata": {},
   "outputs": [
    {
     "name": "stdout",
     "output_type": "stream",
     "text": [
      "[1 1 1 1 1 1 1 0 1 1 1 1 1 0 1 1 1 1 1 1 1 1 1 1 1 0 1 0 1 1 1 1 1 1 1 0 1\n",
      " 1 1 1 1 1 1 1 1 1 1 1 1 1 1 1 1 1 1 0 1 1 0 1 1 1 1 0 1 1 0 0 1 0 1 1 1 1\n",
      " 1 1 1 1 1 1 0 1 0 1 0 1 1 1 1 1 1 1 1 1 0 1 1 1 1 1 1 0 1 1 1 1 0 1 1 1 1\n",
      " 1 1 1 1 1 1 0 0 0 1 1 1 0 0 1 0 1 1 1 1 1 1 1 1 1 1 1 1 1 0 1 0 1 1 1 1 0\n",
      " 1 1 1 1 1 0 1 1 1 1 1 1 1 0 1 1 1 0 0 1 0 1 1 1 1 0 0 1 1 1 1 1 1 1 1 1 1\n",
      " 1 1 1 1 1 1 1 0 0 1 1 0 1 0 1 1 1 1 1 1 1 1 1 1 1 1 0 1 1 1 1 1 1 1 1 1 1\n",
      " 1 1 0 1 1 1 1 0 1 1 1 1 1 0 0 1 1 0 1 0 1 0 1 0 1 1 1 1 0 1 1 1 1 0 1 1 1\n",
      " 1 1 1 1 1 1 1 0 1 0 1 1 1 1 0 0 1 1 1 0 1 1 1 1 1 1 1 1 1 1 1 1 1 1 0 1 1\n",
      " 1 1 1 1 1 0 1 1 1 1 1 1 1 1 1 0 1 1 1 1 1 0 1 1 1 1 1 1 1 0 1 1 1 1 1 1 1\n",
      " 1 1 1 1 1 1 0 1 1 1 1 1 1 0 1 1 1 1 1 1 1 0 1 1 1 1 1 1 1 1 1 1 1 1]\n"
     ]
    }
   ],
   "source": [
    "pipeline_cv.fit(X,y)\n",
    "y_pred=pipeline_cv.predict(X_test)\n",
    "print(y_pred)\n",
    "#le.fit(df['Loan_Status'])\n",
    "#y_pred=le.inverse_transform(y_pred)\n",
    "#print(y_pred)      "
   ]
  },
  {
   "cell_type": "code",
   "execution_count": 7,
   "metadata": {},
   "outputs": [
    {
     "name": "stdout",
     "output_type": "stream",
     "text": [
      "{'knn__n_neighbors': 11}\n",
      "0.809446254072\n"
     ]
    }
   ],
   "source": [
    "print(pipeline_cv.best_params_)\n",
    "print(pipeline_cv.best_score_)"
   ]
  },
  {
   "cell_type": "code",
   "execution_count": 9,
   "metadata": {},
   "outputs": [
    {
     "name": "stdout",
     "output_type": "stream",
     "text": [
      "    Loan_ID  Loan_Status\n",
      "0  LP001015            1\n",
      "1  LP001022            1\n",
      "2  LP001031            1\n",
      "3  LP001035            1\n",
      "4  LP001051            1\n",
      "      Loan_ID Loan_Status\n",
      "0    LP001015           Y\n",
      "1    LP001022           Y\n",
      "2    LP001031           Y\n",
      "3    LP001035           Y\n",
      "4    LP001051           Y\n",
      "5    LP001054           Y\n",
      "6    LP001055           Y\n",
      "7    LP001056           N\n",
      "8    LP001059           Y\n",
      "9    LP001067           Y\n",
      "10   LP001078           Y\n",
      "11   LP001082           Y\n",
      "12   LP001083           Y\n",
      "13   LP001094           N\n",
      "14   LP001096           Y\n",
      "15   LP001099           Y\n",
      "16   LP001105           Y\n",
      "17   LP001107           Y\n",
      "18   LP001108           Y\n",
      "19   LP001115           Y\n",
      "20   LP001121           Y\n",
      "21   LP001124           Y\n",
      "22   LP001128           Y\n",
      "23   LP001135           Y\n",
      "24   LP001149           Y\n",
      "25   LP001153           N\n",
      "26   LP001163           Y\n",
      "27   LP001169           N\n",
      "28   LP001174           Y\n",
      "29   LP001176           Y\n",
      "..        ...         ...\n",
      "337  LP002856           Y\n",
      "338  LP002857           Y\n",
      "339  LP002858           N\n",
      "340  LP002860           Y\n",
      "341  LP002867           Y\n",
      "342  LP002869           Y\n",
      "343  LP002870           Y\n",
      "344  LP002876           Y\n",
      "345  LP002878           Y\n",
      "346  LP002879           N\n",
      "347  LP002885           Y\n",
      "348  LP002890           Y\n",
      "349  LP002891           Y\n",
      "350  LP002899           Y\n",
      "351  LP002901           Y\n",
      "352  LP002907           Y\n",
      "353  LP002920           Y\n",
      "354  LP002921           N\n",
      "355  LP002932           Y\n",
      "356  LP002935           Y\n",
      "357  LP002952           Y\n",
      "358  LP002954           Y\n",
      "359  LP002962           Y\n",
      "360  LP002965           Y\n",
      "361  LP002969           Y\n",
      "362  LP002971           Y\n",
      "363  LP002975           Y\n",
      "364  LP002980           Y\n",
      "365  LP002986           Y\n",
      "366  LP002989           Y\n",
      "\n",
      "[367 rows x 2 columns]\n",
      "Hey\n"
     ]
    }
   ],
   "source": [
    "y_test=y_pred\n",
    "col={'Loan_ID':df_test['Loan_ID'],'Loan_Status':y_test}\n",
    "f=pd.DataFrame(col,index=np.arange(367))\n",
    "print(f.head())\n",
    "le.fit(['Y','N'])\n",
    "f['Loan_Status']=le.inverse_transform(f['Loan_Status'])\n",
    "print(f)\n",
    "f.to_csv('sample_submission.csv',index=False)\n",
    "print('Hey')"
   ]
  }
 ],
 "metadata": {
  "kernelspec": {
   "display_name": "Python 3",
   "language": "python",
   "name": "python3"
  },
  "language_info": {
   "codemirror_mode": {
    "name": "ipython",
    "version": 3
   },
   "file_extension": ".py",
   "mimetype": "text/x-python",
   "name": "python",
   "nbconvert_exporter": "python",
   "pygments_lexer": "ipython3",
   "version": "3.6.2"
  }
 },
 "nbformat": 4,
 "nbformat_minor": 2
}
